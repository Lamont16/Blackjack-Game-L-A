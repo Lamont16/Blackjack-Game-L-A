{
 "cells": [
  {
   "cell_type": "markdown",
   "metadata": {},
   "source": [
    "## Python Blackjack\n",
    "For this project you will make a Blackjack game using Python. Click <a href=\"https://en.wikipedia.org/wiki/Blackjack\" target=\"blank\">here</a> to familiarize yourself with the the rules of the game. You won't be implementing every rule \"down to the letter\" with the game, but we will doing a simpler version of the game. This assignment will be given to further test your knowledge on object-oriented programming concepts.\n",
    "\n",
    "### Rules:\n",
    "\n",
    "`1. ` The game will have two players: the Dealer and a Human. The game will start off with a deck of 52 cards. The 52 cards will consist of 4 different suits: Clubs, Diamonds, Hearts and Spades. For each suit, there will be cards numbered 1 through 13. <br>\n",
    "**Note: No wildcards will be used in the program.**<br>\n",
    "**Note: For the sake of simplicity, You do not have to write any logic to figure out how to handle face cards. Simply give the cards values between 1-13.**\n",
    "\n",
    "`2. ` When the game begins, the Dealer will shuffle the deck of cards, making them randomized. After the Dealer shuffles, it will deal the Human 2 cards and will deal itself 2 cards from the deck. The Human should be able to see both of their own cards, but should only be able to see one of the Dealer's cards.\n",
    " \n",
    "`3. ` The objective of the game is for either the Dealer or Human(s) to get as close to 21 as possible without going over. If the Human isn't satisfied with their deal, they have the ability to '**Hit**'. A hit allows the Dealer to deal the Human one additional card. The Human can hit as many times as they'd like without going over 21. If, in the event, the Human or Dealer does go over 21 it's called a '**Bust**'\n",
    "\n",
    "`4. ` If, on the **first** deal, the Dealer deals the Human a hand that equals 21, this is referred to as Blackjack. Blackjack can **ONLY BE ACHIEVED ON THE FIRST DEAL**. This is **NOT** the same as being dealt cards that equal up to 21 **AFTER** the first deal.\n",
    "\n",
    "`5. ` The Human should **NEVER** see the Dealer's full hand hand until the Human chooses to 'stand'. '**Stand**' is when the Human tells the Dealer to not deal them anymore cards. Once the Human chooses to Stand, **THEN AND ONLY THEN** will the Human and the Dealer compare their hands. The Human whom has the higher number wins."
   ]
  },
  {
   "cell_type": "code",
   "execution_count": 8,
   "metadata": {},
   "outputs": [
    {
     "name": "stdout",
     "output_type": "stream",
     "text": [
      "What is your name? Lamont\n",
      "lamont\n"
     ]
    }
   ],
   "source": [
    "import random\n",
    "\n",
    "\n",
    "class Card:\n",
    "    def __init__(self, suit, value):\n",
    "        self.suit = suit\n",
    "        self.value = value\n",
    "        \n",
    "    def show(self):\n",
    "        print(\"{} of {}\".format(self.value, self.suit))\n",
    "\n",
    "\n",
    "class Deck:\n",
    "    def __init__(self):\n",
    "        self.cards = []\n",
    "        self.build()\n",
    "    \n",
    "    def build(self):\n",
    "        for s in [\"Spades\", \"Clubs\", \"Diamonds\", \"Hearts\"]:\n",
    "            for v in range(1,14):\n",
    "                self.cards.append(Card(s,v))\n",
    "                \n",
    "    def show(self):\n",
    "        for c in self.cards:\n",
    "            c.show()\n",
    "    \n",
    "    def shuffle(self):\n",
    "        for i in range(len(self.cards) -1, 0, -1):\n",
    "            r = random.randint(0, i)\n",
    "            self.cards[i], self.cards[r] = self.cards[r], self.cards[i]\n",
    "            \n",
    "    def draw_card(self):\n",
    "        return self.cards.pop()\n",
    "\n",
    "\n",
    "class Dealer:\n",
    "    def __init__(self, name):\n",
    "        self.name = name\n",
    "        self.dealer_hand = []\n",
    "    def dealer_draw(self, deck):\n",
    "        self.dealer_hand.append(deck.draw_card())\n",
    "        return self\n",
    "    def dealer_show_hand(self):\n",
    "        for card in self.dealer_hand:\n",
    "            card.show()\n",
    "    \n",
    "\n",
    "class Player:\n",
    "    def __init__(self, name):\n",
    "        self.name = name\n",
    "        self.hand = []\n",
    "    def draw(self, deck):\n",
    "        self.hand.append(deck.draw_card())\n",
    "        return self\n",
    "    def show_hand(self):\n",
    "        for card in self.hand:\n",
    "            card.show()\n",
    "    \n",
    "\n",
    "# Run your program through the run() method\n",
    "class Game:\n",
    "    def run(self):\n",
    "        done = False\n",
    "        while not done:\n",
    "            start = input(\"What is your name? \").title()\n",
    "            player1 = Player(start)\n",
    "            print(f\" Have fun ! {player1.name} \")\n",
    "            \n",
    "            \n",
    "            \n",
    "        \n",
    "        \n",
    "        pass\n",
    "blackjack = Game()\n",
    "blackjack.run()"
   ]
  },
  {
   "cell_type": "code",
   "execution_count": null,
   "metadata": {},
   "outputs": [],
   "source": []
  },
  {
   "cell_type": "code",
   "execution_count": null,
   "metadata": {},
   "outputs": [],
   "source": []
  },
  {
   "cell_type": "code",
   "execution_count": null,
   "metadata": {},
   "outputs": [],
   "source": []
  }
 ],
 "metadata": {
  "kernelspec": {
   "display_name": "Python 3 (ipykernel)",
   "language": "python",
   "name": "python3"
  },
  "language_info": {
   "codemirror_mode": {
    "name": "ipython",
    "version": 3
   },
   "file_extension": ".py",
   "mimetype": "text/x-python",
   "name": "python",
   "nbconvert_exporter": "python",
   "pygments_lexer": "ipython3",
   "version": "3.9.7"
  }
 },
 "nbformat": 4,
 "nbformat_minor": 2
}
