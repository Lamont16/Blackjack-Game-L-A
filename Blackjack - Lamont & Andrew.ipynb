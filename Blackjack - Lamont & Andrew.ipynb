{
 "cells": [
  {
   "cell_type": "markdown",
   "metadata": {},
   "source": [
    "## Python Blackjack\n",
    "For this project you will make a Blackjack game using Python. Click <a href=\"https://en.wikipedia.org/wiki/Blackjack\" target=\"blank\">here</a> to familiarize yourself with the the rules of the game. You won't be implementing every rule \"down to the letter\" with the game, but we will doing a simpler version of the game. This assignment will be given to further test your knowledge on object-oriented programming concepts.\n",
    "\n",
    "### Rules:\n",
    "\n",
    "`1. ` The game will have two players: the Dealer and a Human. The game will start off with a deck of 52 cards. The 52 cards will consist of 4 different suits: Clubs, Diamonds, Hearts and Spades. For each suit, there will be cards numbered 1 through 13. <br>\n",
    "**Note: No wildcards will be used in the program.**<br>\n",
    "**Note: For the sake of simplicity, You do not have to write any logic to figure out how to handle face cards. Simply give the cards values between 1-13.**\n",
    "\n",
    "`2. ` When the game begins, the Dealer will shuffle the deck of cards, making them randomized. After the Dealer shuffles, it will deal the Human 2 cards and will deal itself 2 cards from the deck. The Human should be able to see both of their own cards, but should only be able to see one of the Dealer's cards.\n",
    " \n",
    "`3. ` The objective of the game is for either the Dealer or Human(s) to get as close to 21 as possible without going over. If the Human isn't satisfied with their deal, they have the ability to '**Hit**'. A hit allows the Dealer to deal the Human one additional card. The Human can hit as many times as they'd like without going over 21. If, in the event, the Human or Dealer does go over 21 it's called a '**Bust**'\n",
    "\n",
    "`4. ` If, on the **first** deal, the Dealer deals the Human a hand that equals 21, this is referred to as Blackjack. Blackjack can **ONLY BE ACHIEVED ON THE FIRST DEAL**. This is **NOT** the same as being dealt cards that equal up to 21 **AFTER** the first deal.\n",
    "\n",
    "`5. ` The Human should **NEVER** see the Dealer's full hand hand until the Human chooses to 'stand'. '**Stand**' is when the Human tells the Dealer to not deal them anymore cards. Once the Human chooses to Stand, **THEN AND ONLY THEN** will the Human and the Dealer compare their hands. The Human whom has the higher number wins."
   ]
  },
  {
   "cell_type": "code",
   "execution_count": 3,
   "metadata": {},
   "outputs": [
    {
     "ename": "NameError",
     "evalue": "name 'Deck' is not defined",
     "output_type": "error",
     "traceback": [
      "\u001b[0;31m---------------------------------------------------------------------------\u001b[0m",
      "\u001b[0;31mNameError\u001b[0m                                 Traceback (most recent call last)",
      "\u001b[0;32m/var/folders/ns/78zmwrvj0qv7_5q8gwsxnv8w0000gn/T/ipykernel_39938/2402179174.py\u001b[0m in \u001b[0;36m<module>\u001b[0;34m\u001b[0m\n\u001b[1;32m     76\u001b[0m \u001b[0;34m\u001b[0m\u001b[0m\n\u001b[1;32m     77\u001b[0m \u001b[0mblackjack\u001b[0m \u001b[0;34m=\u001b[0m \u001b[0mGame\u001b[0m\u001b[0;34m(\u001b[0m\u001b[0;34m)\u001b[0m\u001b[0;34m\u001b[0m\u001b[0;34m\u001b[0m\u001b[0m\n\u001b[0;32m---> 78\u001b[0;31m \u001b[0mblackjack\u001b[0m\u001b[0;34m.\u001b[0m\u001b[0mrun\u001b[0m\u001b[0;34m(\u001b[0m\u001b[0;34m)\u001b[0m\u001b[0;34m\u001b[0m\u001b[0;34m\u001b[0m\u001b[0m\n\u001b[0m",
      "\u001b[0;32m/var/folders/ns/78zmwrvj0qv7_5q8gwsxnv8w0000gn/T/ipykernel_39938/2402179174.py\u001b[0m in \u001b[0;36mrun\u001b[0;34m(self)\u001b[0m\n\u001b[1;32m     61\u001b[0m     \u001b[0;32mdef\u001b[0m \u001b[0mrun\u001b[0m\u001b[0;34m(\u001b[0m\u001b[0mself\u001b[0m\u001b[0;34m)\u001b[0m\u001b[0;34m:\u001b[0m\u001b[0;34m\u001b[0m\u001b[0;34m\u001b[0m\u001b[0m\n\u001b[1;32m     62\u001b[0m         \u001b[0mdone\u001b[0m \u001b[0;34m=\u001b[0m \u001b[0;32mFalse\u001b[0m\u001b[0;34m\u001b[0m\u001b[0;34m\u001b[0m\u001b[0m\n\u001b[0;32m---> 63\u001b[0;31m         \u001b[0mdeck\u001b[0m \u001b[0;34m=\u001b[0m \u001b[0mDeck\u001b[0m\u001b[0;34m(\u001b[0m\u001b[0;34m)\u001b[0m\u001b[0;34m\u001b[0m\u001b[0;34m\u001b[0m\u001b[0m\n\u001b[0m\u001b[1;32m     64\u001b[0m         \u001b[0;32mwhile\u001b[0m \u001b[0;32mnot\u001b[0m \u001b[0mdone\u001b[0m\u001b[0;34m:\u001b[0m\u001b[0;34m\u001b[0m\u001b[0;34m\u001b[0m\u001b[0m\n\u001b[1;32m     65\u001b[0m             \u001b[0mstart\u001b[0m \u001b[0;34m=\u001b[0m \u001b[0minput\u001b[0m\u001b[0;34m(\u001b[0m\u001b[0;34m\"What is your name? \"\u001b[0m\u001b[0;34m)\u001b[0m\u001b[0;34m.\u001b[0m\u001b[0mtitle\u001b[0m\u001b[0;34m(\u001b[0m\u001b[0;34m)\u001b[0m\u001b[0;34m\u001b[0m\u001b[0;34m\u001b[0m\u001b[0m\n",
      "\u001b[0;31mNameError\u001b[0m: name 'Deck' is not defined"
     ]
    }
   ],
   "source": [
    "\n",
    "    \n",
    "\n",
    "import random\n",
    "\n",
    "class Card:\n",
    "    def __init__(self, suit, value):\n",
    "        self.suit = suit\n",
    "        self.value = value\n",
    "        \n",
    "    def show(self):\n",
    "        print(\"{} of {}\".format(self.value, self.suit))\n",
    "\n",
    "\n",
    "    class Deck:\n",
    "        def __init__(self):\n",
    "            self.cards = []\n",
    "            self.build()\n",
    "\n",
    "        def build(self):\n",
    "            for s in [\"Spades\", \"Clubs\", \"Diamonds\", \"Hearts\"]:\n",
    "                for v in range(1,14):\n",
    "                    self.cards.append(Card(s,v))\n",
    "\n",
    "        def show(self):\n",
    "            for c in self.cards:\n",
    "                c.show()\n",
    "\n",
    "        def shuffle(self):\n",
    "            for i in range(len(self.cards) -1, 0, -1):\n",
    "                r = random.randint(0, i)\n",
    "                self.cards[i], self.cards[r] = self.cards[r], self.cards[i]\n",
    "\n",
    "        def draw_card(self):\n",
    "            return self.cards.pop()\n",
    "\n",
    "\n",
    "    class Dealer:\n",
    "        def __init__(self, name):\n",
    "            self.name = name\n",
    "            self.dealer_hand = []\n",
    "        def dealer_draw(self, deck):\n",
    "            self.dealer_hand.append(deck.draw_card())\n",
    "            return self\n",
    "        def dealer_show_hand(self):\n",
    "            for card in self.dealer_hand:\n",
    "                card.show()\n",
    "\n",
    "\n",
    "    class Player:\n",
    "        def __init__(self, name):\n",
    "            self.name = name\n",
    "            self.hand = []\n",
    "        def draw(self, deck):\n",
    "            self.hand.append(deck.draw_card())\n",
    "            return self\n",
    "        def show_hand(self):\n",
    "            for card in self.hand:\n",
    "                card.show()\n",
    "    \n",
    "\n",
    "# Run your program through the run() method\n",
    "class Game:\n",
    "    def run(self):\n",
    "        done = False\n",
    "        deck = Deck()\n",
    "        while not done:\n",
    "            start = input(\"What is your name? \").title()\n",
    "            player1 = Player(start)\n",
    "            print(f\" Have fun ! {player1.name} \")\n",
    "            player1.draw(deck).draw(deck)\n",
    "            player1.show_hand()\n",
    "            player1.draw(show)\n",
    "            print(\"=\"*60)\n",
    "            \n",
    "        \n",
    "        \n",
    "        pass\n",
    "\n",
    "blackjack = Game()\n",
    "blackjack.run()"
   ]
  },
  {
   "cell_type": "code",
   "execution_count": 1,
   "metadata": {
    "scrolled": true
   },
   "outputs": [
    {
     "name": "stdout",
     "output_type": "stream",
     "text": [
      "Player's hand: \n",
      "[(6, 'Hearts'), (13, 'Spades')]\n",
      "Dealer's hand: \n",
      "Hidden, (9, 'Clubs')\n",
      "Would you like to hit or stand? Enter 'h' or 's' please. h\n",
      "Player's hand: \n",
      "[(6, 'Hearts'), (13, 'Spades'), (4, 'Diamonds'), (9, 'Hearts'), (10, 'Clubs')]\n",
      "Dealer's hand: \n",
      "Hidden, (9, 'Clubs')\n",
      "Would you like to hit or stand? Enter 'h' or 's' please. s\n"
     ]
    },
    {
     "ename": "AttributeError",
     "evalue": "'BlackJack' object has no attribute 'stand'",
     "output_type": "error",
     "traceback": [
      "\u001b[0;31m---------------------------------------------------------------------------\u001b[0m",
      "\u001b[0;31mAttributeError\u001b[0m                            Traceback (most recent call last)",
      "\u001b[0;32m/var/folders/ns/78zmwrvj0qv7_5q8gwsxnv8w0000gn/T/ipykernel_41912/3922538976.py\u001b[0m in \u001b[0;36m<module>\u001b[0;34m\u001b[0m\n\u001b[1;32m    114\u001b[0m \u001b[0;34m\u001b[0m\u001b[0m\n\u001b[1;32m    115\u001b[0m \u001b[0mplay_game\u001b[0m \u001b[0;34m=\u001b[0m \u001b[0mBlackJack\u001b[0m\u001b[0;34m(\u001b[0m\u001b[0;34m)\u001b[0m\u001b[0;34m\u001b[0m\u001b[0;34m\u001b[0m\u001b[0m\n\u001b[0;32m--> 116\u001b[0;31m \u001b[0mplay_game\u001b[0m\u001b[0;34m.\u001b[0m\u001b[0mgame\u001b[0m\u001b[0;34m(\u001b[0m\u001b[0;34m)\u001b[0m\u001b[0;34m\u001b[0m\u001b[0;34m\u001b[0m\u001b[0m\n\u001b[0m",
      "\u001b[0;32m/var/folders/ns/78zmwrvj0qv7_5q8gwsxnv8w0000gn/T/ipykernel_41912/3922538976.py\u001b[0m in \u001b[0;36mgame\u001b[0;34m(self)\u001b[0m\n\u001b[1;32m     65\u001b[0m                 \u001b[0mself\u001b[0m\u001b[0;34m.\u001b[0m\u001b[0mplayer\u001b[0m\u001b[0;34m.\u001b[0m\u001b[0mhand\u001b[0m\u001b[0;34m.\u001b[0m\u001b[0mappend\u001b[0m\u001b[0;34m(\u001b[0m\u001b[0mdeck\u001b[0m\u001b[0;34m.\u001b[0m\u001b[0mpop_card\u001b[0m\u001b[0;34m(\u001b[0m\u001b[0;34m)\u001b[0m\u001b[0;34m)\u001b[0m\u001b[0;34m\u001b[0m\u001b[0;34m\u001b[0m\u001b[0m\n\u001b[1;32m     66\u001b[0m             \u001b[0;32melif\u001b[0m \u001b[0mchoice\u001b[0m \u001b[0;34m==\u001b[0m \u001b[0;34m's'\u001b[0m\u001b[0;34m:\u001b[0m\u001b[0;34m\u001b[0m\u001b[0;34m\u001b[0m\u001b[0m\n\u001b[0;32m---> 67\u001b[0;31m                 \u001b[0mself\u001b[0m\u001b[0;34m.\u001b[0m\u001b[0mstand\u001b[0m\u001b[0;34m(\u001b[0m\u001b[0;34m)\u001b[0m\u001b[0;34m\u001b[0m\u001b[0;34m\u001b[0m\u001b[0m\n\u001b[0m\u001b[1;32m     68\u001b[0m                 \u001b[0;32mbreak\u001b[0m\u001b[0;34m\u001b[0m\u001b[0;34m\u001b[0m\u001b[0m\n\u001b[1;32m     69\u001b[0m             \u001b[0;32melse\u001b[0m\u001b[0;34m:\u001b[0m\u001b[0;34m\u001b[0m\u001b[0;34m\u001b[0m\u001b[0m\n",
      "\u001b[0;31mAttributeError\u001b[0m: 'BlackJack' object has no attribute 'stand'"
     ]
    }
   ],
   "source": [
    "import random\n",
    "suit = ['Spades', 'Hearts','Clubs', 'Diamonds']\n",
    "value = [i for i in range(1, 14)]\n",
    "class Card:\n",
    "    def __init__(self, suit, value):\n",
    "        self.suit = suit\n",
    "        self.value = value\n",
    "    def __str__(self):\n",
    "        return f\"{self.value}{self.suit}\"\n",
    "    \n",
    "\n",
    "class Deck:\n",
    "    def __init__(self):\n",
    "        self.deck = self.create_deck()\n",
    "        self.shuffle()\n",
    "    def create_deck(self):\n",
    "        return[(v, s) for v in value for s in suit]\n",
    "        \n",
    "    def __len__(self):\n",
    "        return len(self.deck)\n",
    "        \n",
    "    def pop_card(self):\n",
    "        if len(self.deck) >= 2:\n",
    "            return self.deck.pop()\n",
    "    def shuffle(self):\n",
    "        if len(self.deck) >= 2:\n",
    "            random.shuffle(self.deck)\n",
    "        \n",
    "class Person:\n",
    "    def __init__(self, game_dealer):\n",
    "        self.hand = []\n",
    "        self.value = 0\n",
    "        self.game_dealer = game_dealer\n",
    "        \n",
    "class Dealer(Person):\n",
    "    def __init__(self):\n",
    "        super().__init__('dealer')\n",
    "        \n",
    "    def dealer_show_hand(self):\n",
    "        if len(self.hand) >=2:\n",
    "            print(f\"Dealer's hand: \\nHidden, {self.hand[0]}\")\n",
    "            \n",
    "class Player(Person):\n",
    "    def __init__(self):\n",
    "        super().__init__('player')\n",
    "class BlackJack:\n",
    "    \n",
    "    def __init__(self):\n",
    "        self.player = Player()\n",
    "        self.dealer = Dealer()\n",
    "        \n",
    "    def game(self):\n",
    "        while True:\n",
    "            deck = Deck()\n",
    "            self.player.hand.append(deck.pop_card())\n",
    "            self.player.hand.append(deck.pop_card())\n",
    "            self.dealer.hand.append(deck.pop_card())\n",
    "            self.dealer.hand.append(deck.pop_card())\n",
    "            print(f\"Player's hand: \\n{self.player.hand}\")\n",
    "            self.dealer.dealer_show_hand()\n",
    "\n",
    "            choice = input(\"Would you like to hit or stand? Enter 'h' or 's' please. \").lower()\n",
    "\n",
    "            if choice == 'h':\n",
    "                self.player.hand.append(deck.pop_card())\n",
    "            elif choice == 's':\n",
    "                self.stand()\n",
    "                break\n",
    "            else:\n",
    "                print('You have entered the wrong choice please try again. ')\n",
    "\n",
    "        def total(self):\n",
    "            self.player_total = 0\n",
    "            self.dealer_total = 0\n",
    "\n",
    "            for i in self.player.hand:\n",
    "                self.player_total += i[0]\n",
    "            print(f\"Player's total: {self.player_total}\")\n",
    "\n",
    "            for i in self.dealer.hand:\n",
    "                  self.dealer_total += i[0]\n",
    "            print(f\"Dealer's total: {self.dealer_total}\")\n",
    "\n",
    "        def stand(self):\n",
    "            self.total()\n",
    "            self.bust()\n",
    "\n",
    "        def bust(self):\n",
    "            busted = False\n",
    "            while True:\n",
    "                if self.player_total > 21:\n",
    "                    print('Player has busted! ')\n",
    "                    busted = True\n",
    "                    break\n",
    "                elif self.dealer_total > 21:\n",
    "                    print('Dealer has busted! ')\n",
    "                    busted = True\n",
    "                    break\n",
    "\n",
    "        def blackjack(self):\n",
    "            if player_total == 21 and len(player) == 2:\n",
    "                print('BlackJack!!')\n",
    "            elif dealer_total == 21 and len(dealer) == 2:\n",
    "                print('Dealer BlackJack!! ')\n",
    "\n",
    "        def win(self):\n",
    "            if busted == True:\n",
    "                if player_total > dealer_total:\n",
    "                    print('Player wins! ')\n",
    "                elif dealer_total > player_total:\n",
    "                    print('Dealer wins!')\n",
    "                elif player_total == dealer_total:\n",
    "                    print('It is a push.')\n",
    "\n",
    "play_game = BlackJack()\n",
    "play_game.game()"
   ]
  },
  {
   "cell_type": "code",
   "execution_count": null,
   "metadata": {},
   "outputs": [],
   "source": []
  },
  {
   "cell_type": "code",
   "execution_count": 23,
   "metadata": {},
   "outputs": [
    {
     "name": "stdout",
     "output_type": "stream",
     "text": [
      "1 of Spades 2 of Hearts\n"
     ]
    }
   ],
   "source": []
  },
  {
   "cell_type": "code",
   "execution_count": 25,
   "metadata": {},
   "outputs": [
    {
     "data": {
      "text/plain": [
       "False"
      ]
     },
     "execution_count": 25,
     "metadata": {},
     "output_type": "execute_result"
    }
   ],
   "source": []
  },
  {
   "cell_type": "code",
   "execution_count": 46,
   "metadata": {},
   "outputs": [],
   "source": []
  },
  {
   "cell_type": "code",
   "execution_count": 49,
   "metadata": {},
   "outputs": [
    {
     "name": "stdout",
     "output_type": "stream",
     "text": [
      "6 of Spades\n"
     ]
    }
   ],
   "source": []
  },
  {
   "cell_type": "code",
   "execution_count": 55,
   "metadata": {},
   "outputs": [],
   "source": []
  },
  {
   "cell_type": "code",
   "execution_count": 57,
   "metadata": {},
   "outputs": [
    {
     "name": "stdout",
     "output_type": "stream",
     "text": [
      "Player: 11 of Hearts\n"
     ]
    }
   ],
   "source": []
  },
  {
   "cell_type": "code",
   "execution_count": null,
   "metadata": {},
   "outputs": [],
   "source": []
  }
 ],
 "metadata": {
  "kernelspec": {
   "display_name": "Python 3 (ipykernel)",
   "language": "python",
   "name": "python3"
  },
  "language_info": {
   "codemirror_mode": {
    "name": "ipython",
    "version": 3
   },
   "file_extension": ".py",
   "mimetype": "text/x-python",
   "name": "python",
   "nbconvert_exporter": "python",
   "pygments_lexer": "ipython3",
   "version": "3.9.7"
  }
 },
 "nbformat": 4,
 "nbformat_minor": 2
}
